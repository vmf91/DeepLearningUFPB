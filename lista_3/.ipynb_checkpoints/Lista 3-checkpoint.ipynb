{
 "cells": [
  {
   "cell_type": "markdown",
   "metadata": {},
   "source": [
    "# Lista 3\n"
   ]
  },
  {
   "cell_type": "code",
   "execution_count": 1,
   "metadata": {
    "collapsed": false
   },
   "outputs": [
    {
     "name": "stderr",
     "output_type": "stream",
     "text": [
      "/home/victor/.conda/envs/tensorflow/lib/python3.5/site-packages/h5py/__init__.py:36: FutureWarning: Conversion of the second argument of issubdtype from `float` to `np.floating` is deprecated. In future, it will be treated as `np.float64 == np.dtype(float).type`.\n",
      "  from ._conv import register_converters as _register_converters\n",
      "Using TensorFlow backend.\n"
     ]
    }
   ],
   "source": [
    "%matplotlib inline\n",
    "%config InlineBackend.figure_format = 'retina'\n",
    "\n",
    "import keras\n",
    "import tensorflow as tf\n",
    "import numpy as np\n",
    "import pandas as pd \n",
    "import matplotlib.pyplot as plt\n",
    "from sklearn.model_selection import train_test_split\n",
    "from sklearn.preprocessing import normalize\n",
    "from sklearn.metrics import confusion_matrix\n",
    "from keras.datasets import mnist"
   ]
  },
  {
   "cell_type": "code",
   "execution_count": 2,
   "metadata": {
    "collapsed": true
   },
   "outputs": [],
   "source": [
    "def one_hot_encode(x, num_classes):\n",
    "    one_hot = np.zeros([len(x), num_classes])\n",
    "    for i in enumerate(x):\n",
    "        one_hot[(i[0], i[1])] = 1\n",
    "    return one_hot"
   ]
  },
  {
   "cell_type": "code",
   "execution_count": 3,
   "metadata": {
    "collapsed": false
   },
   "outputs": [],
   "source": [
    "### leitura do dataset\n",
    "(train_X, train_y), (test_X, test_y) = mnist.load_data()"
   ]
  },
  {
   "cell_type": "code",
   "execution_count": 4,
   "metadata": {
    "collapsed": false
   },
   "outputs": [
    {
     "data": {
      "text/plain": [
       "<matplotlib.text.Text at 0x7f530672fa20>"
      ]
     },
     "execution_count": 4,
     "metadata": {},
     "output_type": "execute_result"
    },
    {
     "data": {
      "image/png": "[encoded data removed]",
      "text/plain": [
       "<matplotlib.figure.Figure at 0x7f5309c3d6d8>"
      ]
     },
     "metadata": {
      "image/png": {
       "height": 263,
       "width": 253
      }
     },
     "output_type": "display_data"
    }
   ],
   "source": [
    "### Visualizar instâncias\n",
    "plt.imshow(train_X[5], cmap=plt.get_cmap('gray'))\n",
    "plt.title(train_y[5])"
   ]
  },
  {
   "cell_type": "code",
   "execution_count": 5,
   "metadata": {
    "collapsed": false
   },
   "outputs": [],
   "source": [
    "# Normaliza as instâncias\n",
    "train_X = train_X.astype(np.float32)\n",
    "train_X /= 255.0\n",
    "\n",
    "test_X = test_X.astype(np.float32)\n",
    "test_X /= 255.0"
   ]
  },
  {
   "cell_type": "code",
   "execution_count": 6,
   "metadata": {
    "collapsed": false
   },
   "outputs": [],
   "source": [
    "# Flatteniza as instâncias\n",
    "train_X = train_X.reshape(train_X.shape[0], train_X.shape[1] * train_X.shape[2])\n",
    "test_X = test_X.reshape(test_X.shape[0], test_X.shape[1] * test_X.shape[2])"
   ]
  },
  {
   "cell_type": "code",
   "execution_count": 7,
   "metadata": {
    "collapsed": false
   },
   "outputs": [],
   "source": [
    "# One Hot Encode nas classes\n",
    "train_y = one_hot_encode(train_y, 10)\n",
    "test_y = one_hot_encode(test_y, 10)"
   ]
  },
  {
   "cell_type": "markdown",
   "metadata": {
    "collapsed": false
   },
   "source": [
    "### Rede Neural"
   ]
  },
  {
   "cell_type": "code",
   "execution_count": 43,
   "metadata": {
    "collapsed": false
   },
   "outputs": [
    {
     "name": "stdout",
     "output_type": "stream",
     "text": [
      "Training the model...\n",
      "Epoch 0 | Batch 0 | Train Loss: 41733.625\n",
      "Epoch 1 | Batch 0 | Train Loss: 11826.592\n",
      "Epoch 2 | Batch 0 | Train Loss: 7861.957\n",
      "Epoch 3 | Batch 0 | Train Loss: 6181.7446\n",
      "Epoch 4 | Batch 0 | Train Loss: 5208.651\n",
      "Epoch 5 | Batch 0 | Train Loss: 4485.81\n",
      "Epoch 6 | Batch 0 | Train Loss: 3969.7095\n",
      "Epoch 7 | Batch 0 | Train Loss: 3560.0776\n",
      "Epoch 8 | Batch 0 | Train Loss: 3244.2388\n",
      "Epoch 9 | Batch 0 | Train Loss: 2952.202\n",
      "Epoch 10 | Batch 0 | Train Loss: 2771.1028\n",
      "Epoch 11 | Batch 0 | Train Loss: 2594.9597\n",
      "Epoch 12 | Batch 0 | Train Loss: 2438.4087\n",
      "Epoch 13 | Batch 0 | Train Loss: 2315.4636\n",
      "Epoch 14 | Batch 0 | Train Loss: 2216.4607\n",
      "Epoch 15 | Batch 0 | Train Loss: 2115.775\n",
      "Epoch 16 | Batch 0 | Train Loss: 2038.3375\n",
      "Epoch 17 | Batch 0 | Train Loss: 1966.8789\n",
      "Epoch 18 | Batch 0 | Train Loss: 1894.9457\n",
      "Epoch 19 | Batch 0 | Train Loss: 1840.3008\n",
      "Epoch 20 | Batch 0 | Train Loss: 1781.6348\n",
      "Epoch 21 | Batch 0 | Train Loss: 1718.9694\n",
      "Epoch 22 | Batch 0 | Train Loss: 1671.4465\n",
      "Epoch 23 | Batch 0 | Train Loss: 1623.4065\n",
      "Epoch 24 | Batch 0 | Train Loss: 1571.9163\n",
      "Epoch 25 | Batch 0 | Train Loss: 1536.6213\n",
      "Epoch 26 | Batch 0 | Train Loss: 1497.9594\n",
      "Epoch 27 | Batch 0 | Train Loss: 1460.6528\n",
      "Epoch 28 | Batch 0 | Train Loss: 1428.698\n",
      "Epoch 29 | Batch 0 | Train Loss: 1393.0325\n",
      "Epoch 30 | Batch 0 | Train Loss: 1356.8455\n",
      "Epoch 31 | Batch 0 | Train Loss: 1327.6042\n",
      "Epoch 32 | Batch 0 | Train Loss: 1298.2555\n",
      "Epoch 33 | Batch 0 | Train Loss: 1273.4506\n",
      "Epoch 34 | Batch 0 | Train Loss: 1245.1638\n",
      "Epoch 35 | Batch 0 | Train Loss: 1224.2104\n",
      "Epoch 36 | Batch 0 | Train Loss: 1195.3792\n",
      "Epoch 37 | Batch 0 | Train Loss: 1174.0238\n",
      "Epoch 38 | Batch 0 | Train Loss: 1145.7806\n",
      "Epoch 39 | Batch 0 | Train Loss: 1123.0948\n",
      "Epoch 40 | Batch 0 | Train Loss: 1105.7084\n",
      "Epoch 41 | Batch 0 | Train Loss: 1086.807\n",
      "Epoch 42 | Batch 0 | Train Loss: 1068.0199\n",
      "Epoch 43 | Batch 0 | Train Loss: 1042.6262\n",
      "Epoch 44 | Batch 0 | Train Loss: 1024.4254\n",
      "Epoch 45 | Batch 0 | Train Loss: 1011.542\n",
      "Epoch 46 | Batch 0 | Train Loss: 994.29785\n",
      "Epoch 47 | Batch 0 | Train Loss: 976.1838\n",
      "Epoch 48 | Batch 0 | Train Loss: 962.3706\n",
      "Epoch 49 | Batch 0 | Train Loss: 944.6869\n",
      "Epoch 50 | Batch 0 | Train Loss: 929.88165\n",
      "Epoch 51 | Batch 0 | Train Loss: 915.78436\n",
      "Epoch 52 | Batch 0 | Train Loss: 903.23553\n",
      "Epoch 53 | Batch 0 | Train Loss: 881.83887\n",
      "Epoch 54 | Batch 0 | Train Loss: 873.85626\n",
      "Epoch 55 | Batch 0 | Train Loss: 860.9744\n",
      "Epoch 56 | Batch 0 | Train Loss: 845.7951\n",
      "Epoch 57 | Batch 0 | Train Loss: 831.1885\n",
      "Epoch 58 | Batch 0 | Train Loss: 817.6346\n",
      "Epoch 59 | Batch 0 | Train Loss: 808.3093\n",
      "Epoch 60 | Batch 0 | Train Loss: 798.6155\n",
      "Epoch 61 | Batch 0 | Train Loss: 781.8434\n",
      "Epoch 62 | Batch 0 | Train Loss: 771.12225\n",
      "Epoch 63 | Batch 0 | Train Loss: 763.3581\n",
      "Epoch 64 | Batch 0 | Train Loss: 750.33997\n",
      "Epoch 65 | Batch 0 | Train Loss: 739.1201\n",
      "Epoch 66 | Batch 0 | Train Loss: 731.99927\n",
      "Epoch 67 | Batch 0 | Train Loss: 720.0116\n",
      "Epoch 68 | Batch 0 | Train Loss: 709.8796\n",
      "Epoch 69 | Batch 0 | Train Loss: 701.0764\n",
      "Epoch 70 | Batch 0 | Train Loss: 691.3207\n",
      "Epoch 71 | Batch 0 | Train Loss: 683.6044\n",
      "Epoch 72 | Batch 0 | Train Loss: 673.01855\n",
      "Epoch 73 | Batch 0 | Train Loss: 665.8206\n",
      "Epoch 74 | Batch 0 | Train Loss: 656.0047\n",
      "Epoch 75 | Batch 0 | Train Loss: 646.04785\n",
      "Epoch 76 | Batch 0 | Train Loss: 638.3776\n",
      "Epoch 77 | Batch 0 | Train Loss: 629.73303\n",
      "Epoch 78 | Batch 0 | Train Loss: 624.28625\n",
      "Epoch 79 | Batch 0 | Train Loss: 614.5917\n",
      "Epoch 80 | Batch 0 | Train Loss: 604.602\n",
      "Epoch 81 | Batch 0 | Train Loss: 597.54626\n",
      "Epoch 82 | Batch 0 | Train Loss: 587.7251\n",
      "Epoch 83 | Batch 0 | Train Loss: 583.69586\n",
      "Epoch 84 | Batch 0 | Train Loss: 574.3135\n",
      "Epoch 85 | Batch 0 | Train Loss: 570.4025\n",
      "Epoch 86 | Batch 0 | Train Loss: 563.1532\n",
      "Epoch 87 | Batch 0 | Train Loss: 560.83527\n",
      "Epoch 88 | Batch 0 | Train Loss: 546.4647\n",
      "Epoch 89 | Batch 0 | Train Loss: 540.75714\n",
      "Epoch 90 | Batch 0 | Train Loss: 532.22815\n",
      "Epoch 91 | Batch 0 | Train Loss: 528.2474\n",
      "Epoch 92 | Batch 0 | Train Loss: 523.1004\n",
      "Epoch 93 | Batch 0 | Train Loss: 516.1735\n",
      "Epoch 94 | Batch 0 | Train Loss: 509.03693\n",
      "Epoch 95 | Batch 0 | Train Loss: 503.58463\n",
      "Epoch 96 | Batch 0 | Train Loss: 497.93207\n",
      "Epoch 97 | Batch 0 | Train Loss: 491.0525\n",
      "Epoch 98 | Batch 0 | Train Loss: 483.8706\n",
      "Epoch 99 | Batch 0 | Train Loss: 478.01083\n",
      "Epoch 100 | Batch 0 | Train Loss: 472.4873\n",
      "Epoch 101 | Batch 0 | Train Loss: 472.6066\n",
      "Epoch 102 | Batch 0 | Train Loss: 463.92792\n",
      "Epoch 103 | Batch 0 | Train Loss: 455.22736\n",
      "Epoch 104 | Batch 0 | Train Loss: 453.50616\n",
      "Epoch 105 | Batch 0 | Train Loss: 447.80365\n",
      "Epoch 106 | Batch 0 | Train Loss: 441.83185\n",
      "Epoch 107 | Batch 0 | Train Loss: 437.50015\n",
      "Epoch 108 | Batch 0 | Train Loss: 431.45563\n",
      "Epoch 109 | Batch 0 | Train Loss: 429.8789\n",
      "Epoch 110 | Batch 0 | Train Loss: 424.68268\n",
      "Epoch 111 | Batch 0 | Train Loss: 417.091\n",
      "Epoch 112 | Batch 0 | Train Loss: 415.0228\n",
      "Epoch 113 | Batch 0 | Train Loss: 409.8719\n",
      "Epoch 114 | Batch 0 | Train Loss: 403.12543\n",
      "Epoch 115 | Batch 0 | Train Loss: 401.48608\n",
      "Epoch 116 | Batch 0 | Train Loss: 399.12823\n",
      "Epoch 117 | Batch 0 | Train Loss: 391.74628\n",
      "Epoch 118 | Batch 0 | Train Loss: 385.8922\n",
      "Epoch 119 | Batch 0 | Train Loss: 385.11093\n",
      "Epoch 120 | Batch 0 | Train Loss: 379.55283\n",
      "Epoch 121 | Batch 0 | Train Loss: 377.2436\n",
      "Epoch 122 | Batch 0 | Train Loss: 373.0224\n",
      "Epoch 123 | Batch 0 | Train Loss: 369.96622\n",
      "Epoch 124 | Batch 0 | Train Loss: 363.45273\n",
      "Epoch 125 | Batch 0 | Train Loss: 362.62134\n",
      "Epoch 126 | Batch 0 | Train Loss: 358.63373\n",
      "Epoch 127 | Batch 0 | Train Loss: 355.42145\n",
      "Epoch 128 | Batch 0 | Train Loss: 351.8231\n",
      "Epoch 129 | Batch 0 | Train Loss: 346.2715\n",
      "Epoch 130 | Batch 0 | Train Loss: 347.09003\n",
      "Epoch 131 | Batch 0 | Train Loss: 344.88666\n",
      "Epoch 132 | Batch 0 | Train Loss: 337.2793\n",
      "Epoch 133 | Batch 0 | Train Loss: 336.6021\n",
      "Epoch 134 | Batch 0 | Train Loss: 331.8803\n",
      "Epoch 135 | Batch 0 | Train Loss: 327.54337\n",
      "Epoch 136 | Batch 0 | Train Loss: 325.41986\n",
      "Epoch 137 | Batch 0 | Train Loss: 322.69168\n",
      "Epoch 138 | Batch 0 | Train Loss: 320.03238\n",
      "Epoch 139 | Batch 0 | Train Loss: 315.87766\n",
      "Epoch 140 | Batch 0 | Train Loss: 313.10254\n",
      "Epoch 141 | Batch 0 | Train Loss: 312.8338\n",
      "Epoch 142 | Batch 0 | Train Loss: 307.5213\n",
      "Epoch 143 | Batch 0 | Train Loss: 305.90546\n",
      "Epoch 144 | Batch 0 | Train Loss: 302.44678\n",
      "Epoch 145 | Batch 0 | Train Loss: 301.5715\n",
      "Epoch 146 | Batch 0 | Train Loss: 296.71725\n",
      "Epoch 147 | Batch 0 | Train Loss: 294.06805\n",
      "Epoch 148 | Batch 0 | Train Loss: 291.39963\n",
      "Epoch 149 | Batch 0 | Train Loss: 287.99765\n",
      "Epoch 150 | Batch 0 | Train Loss: 283.43744\n",
      "Epoch 151 | Batch 0 | Train Loss: 286.7379\n",
      "Epoch 152 | Batch 0 | Train Loss: 283.35983\n",
      "Epoch 153 | Batch 0 | Train Loss: 279.27423\n",
      "Epoch 154 | Batch 0 | Train Loss: 275.4489\n",
      "Epoch 155 | Batch 0 | Train Loss: 275.96475\n",
      "Epoch 156 | Batch 0 | Train Loss: 272.60513\n",
      "Epoch 157 | Batch 0 | Train Loss: 270.54974\n",
      "Epoch 158 | Batch 0 | Train Loss: 266.7416\n",
      "Epoch 159 | Batch 0 | Train Loss: 268.25433\n",
      "Epoch 160 | Batch 0 | Train Loss: 264.1881\n",
      "Epoch 161 | Batch 0 | Train Loss: 262.3674\n",
      "Epoch 162 | Batch 0 | Train Loss: 259.5441\n",
      "Epoch 163 | Batch 0 | Train Loss: 257.1283\n",
      "Epoch 164 | Batch 0 | Train Loss: 255.20113\n",
      "Epoch 165 | Batch 0 | Train Loss: 252.25256\n",
      "Epoch 166 | Batch 0 | Train Loss: 249.5645\n",
      "Epoch 167 | Batch 0 | Train Loss: 248.13242\n",
      "Epoch 168 | Batch 0 | Train Loss: 250.19409\n",
      "Epoch 169 | Batch 0 | Train Loss: 246.09854\n",
      "Epoch 170 | Batch 0 | Train Loss: 242.9228\n",
      "Epoch 171 | Batch 0 | Train Loss: 241.61838\n",
      "Epoch 172 | Batch 0 | Train Loss: 239.7446\n",
      "Epoch 173 | Batch 0 | Train Loss: 235.65112\n",
      "Epoch 174 | Batch 0 | Train Loss: 233.88443\n",
      "Epoch 175 | Batch 0 | Train Loss: 233.1226\n",
      "Epoch 176 | Batch 0 | Train Loss: 229.98178\n",
      "Epoch 177 | Batch 0 | Train Loss: 228.03601\n",
      "Epoch 178 | Batch 0 | Train Loss: 230.17436\n",
      "Epoch 179 | Batch 0 | Train Loss: 223.5103\n",
      "Epoch 180 | Batch 0 | Train Loss: 221.1398\n",
      "Epoch 181 | Batch 0 | Train Loss: 221.10464\n",
      "Epoch 182 | Batch 0 | Train Loss: 221.29037\n",
      "Epoch 183 | Batch 0 | Train Loss: 217.56827\n",
      "Epoch 184 | Batch 0 | Train Loss: 216.54929\n",
      "Epoch 185 | Batch 0 | Train Loss: 214.73569\n",
      "Epoch 186 | Batch 0 | Train Loss: 213.56718\n",
      "Epoch 187 | Batch 0 | Train Loss: 211.06279\n",
      "Epoch 188 | Batch 0 | Train Loss: 209.08467\n",
      "Epoch 189 | Batch 0 | Train Loss: 207.66757\n",
      "Epoch 190 | Batch 0 | Train Loss: 205.31718\n",
      "Epoch 191 | Batch 0 | Train Loss: 204.0318\n",
      "Epoch 192 | Batch 0 | Train Loss: 203.58461\n",
      "Epoch 193 | Batch 0 | Train Loss: 201.86078\n",
      "Epoch 194 | Batch 0 | Train Loss: 199.84647\n",
      "Epoch 195 | Batch 0 | Train Loss: 197.4544\n",
      "Epoch 196 | Batch 0 | Train Loss: 197.14201\n",
      "Epoch 197 | Batch 0 | Train Loss: 195.19734\n",
      "Epoch 198 | Batch 0 | Train Loss: 194.66899\n",
      "Epoch 199 | Batch 0 | Train Loss: 193.1611\n",
      "Epoch 200 | Batch 0 | Train Loss: 191.20282\n",
      "Epoch 201 | Batch 0 | Train Loss: 193.11784\n",
      "Epoch 202 | Batch 0 | Train Loss: 188.09488\n",
      "Epoch 203 | Batch 0 | Train Loss: 186.34213\n",
      "Epoch 204 | Batch 0 | Train Loss: 186.48679\n",
      "Epoch 205 | Batch 0 | Train Loss: 185.54593\n",
      "Epoch 206 | Batch 0 | Train Loss: 185.92847\n",
      "Epoch 207 | Batch 0 | Train Loss: 181.86877\n",
      "Epoch 208 | Batch 0 | Train Loss: 180.86719\n",
      "Epoch 209 | Batch 0 | Train Loss: 182.79982\n",
      "Epoch 210 | Batch 0 | Train Loss: 179.58818\n",
      "Epoch 211 | Batch 0 | Train Loss: 175.26181\n",
      "Epoch 212 | Batch 0 | Train Loss: 176.0209\n",
      "Epoch 213 | Batch 0 | Train Loss: 175.4404\n",
      "Epoch 214 | Batch 0 | Train Loss: 173.46506\n",
      "Epoch 215 | Batch 0 | Train Loss: 172.58545\n",
      "Epoch 216 | Batch 0 | Train Loss: 171.88107\n",
      "Epoch 217 | Batch 0 | Train Loss: 169.88739\n",
      "Epoch 218 | Batch 0 | Train Loss: 169.06538\n",
      "Epoch 219 | Batch 0 | Train Loss: 167.44218\n",
      "Epoch 220 | Batch 0 | Train Loss: 167.07828\n",
      "Epoch 221 | Batch 0 | Train Loss: 165.40164\n",
      "Epoch 222 | Batch 0 | Train Loss: 164.18823\n",
      "Epoch 223 | Batch 0 | Train Loss: 164.33543\n",
      "Epoch 224 | Batch 0 | Train Loss: 162.43983\n",
      "Epoch 225 | Batch 0 | Train Loss: 160.67017\n",
      "Epoch 226 | Batch 0 | Train Loss: 160.05923\n",
      "Epoch 227 | Batch 0 | Train Loss: 159.70317\n",
      "Epoch 228 | Batch 0 | Train Loss: 158.00827\n",
      "Epoch 229 | Batch 0 | Train Loss: 157.26703\n",
      "Epoch 230 | Batch 0 | Train Loss: 157.37407\n",
      "Epoch 231 | Batch 0 | Train Loss: 153.79561\n",
      "Epoch 232 | Batch 0 | Train Loss: 151.3187\n",
      "Epoch 233 | Batch 0 | Train Loss: 153.40907\n",
      "Epoch 234 | Batch 0 | Train Loss: 149.67447\n",
      "Epoch 235 | Batch 0 | Train Loss: 148.74484\n",
      "Epoch 236 | Batch 0 | Train Loss: 147.94263\n",
      "Epoch 237 | Batch 0 | Train Loss: 149.66582\n",
      "Epoch 238 | Batch 0 | Train Loss: 146.33508\n",
      "Epoch 239 | Batch 0 | Train Loss: 146.13016\n",
      "Epoch 240 | Batch 0 | Train Loss: 144.57532\n",
      "Epoch 241 | Batch 0 | Train Loss: 147.01265\n",
      "Epoch 242 | Batch 0 | Train Loss: 143.24675\n",
      "Epoch 243 | Batch 0 | Train Loss: 141.32974\n",
      "Epoch 244 | Batch 0 | Train Loss: 140.70273\n",
      "Epoch 245 | Batch 0 | Train Loss: 140.4385\n",
      "Epoch 246 | Batch 0 | Train Loss: 138.304\n",
      "Epoch 247 | Batch 0 | Train Loss: 134.68556\n",
      "Epoch 248 | Batch 0 | Train Loss: 136.38374\n",
      "Epoch 249 | Batch 0 | Train Loss: 134.58981\n",
      "Epoch 250 | Batch 0 | Train Loss: 133.24579\n",
      "Epoch 251 | Batch 0 | Train Loss: 134.80655\n",
      "Epoch 252 | Batch 0 | Train Loss: 133.32216\n",
      "Epoch 253 | Batch 0 | Train Loss: 132.9617\n",
      "Epoch 254 | Batch 0 | Train Loss: 133.99207\n",
      "Epoch 255 | Batch 0 | Train Loss: 130.83691\n",
      "Epoch 256 | Batch 0 | Train Loss: 131.84026\n",
      "Epoch 257 | Batch 0 | Train Loss: 130.06299\n",
      "Epoch 258 | Batch 0 | Train Loss: 129.01321\n",
      "Epoch 259 | Batch 0 | Train Loss: 127.3115\n",
      "Epoch 260 | Batch 0 | Train Loss: 129.10388\n",
      "Epoch 261 | Batch 0 | Train Loss: 124.25934\n",
      "Epoch 262 | Batch 0 | Train Loss: 126.65912\n",
      "Epoch 263 | Batch 0 | Train Loss: 126.16089\n",
      "Epoch 264 | Batch 0 | Train Loss: 123.2313\n",
      "Epoch 265 | Batch 0 | Train Loss: 123.62248\n",
      "Epoch 266 | Batch 0 | Train Loss: 121.68677\n",
      "Epoch 267 | Batch 0 | Train Loss: 123.35356\n",
      "Epoch 268 | Batch 0 | Train Loss: 120.41721\n",
      "Epoch 269 | Batch 0 | Train Loss: 120.7334\n",
      "Epoch 270 | Batch 0 | Train Loss: 119.79109\n",
      "Epoch 271 | Batch 0 | Train Loss: 118.41203\n",
      "Epoch 272 | Batch 0 | Train Loss: 118.026855\n",
      "Epoch 273 | Batch 0 | Train Loss: 117.13988\n",
      "Epoch 274 | Batch 0 | Train Loss: 114.88043\n",
      "Epoch 275 | Batch 0 | Train Loss: 117.76919\n",
      "Epoch 276 | Batch 0 | Train Loss: 113.894104\n",
      "Epoch 277 | Batch 0 | Train Loss: 112.64464\n",
      "Epoch 278 | Batch 0 | Train Loss: 114.00637\n",
      "Epoch 279 | Batch 0 | Train Loss: 112.77163\n",
      "Epoch 280 | Batch 0 | Train Loss: 111.77722\n",
      "Epoch 281 | Batch 0 | Train Loss: 110.524826\n",
      "Epoch 282 | Batch 0 | Train Loss: 109.34706\n",
      "Epoch 283 | Batch 0 | Train Loss: 110.30542\n",
      "Epoch 284 | Batch 0 | Train Loss: 109.39014\n",
      "Epoch 285 | Batch 0 | Train Loss: 108.07053\n",
      "Epoch 286 | Batch 0 | Train Loss: 107.03601\n",
      "Epoch 287 | Batch 0 | Train Loss: 106.8104\n",
      "Epoch 288 | Batch 0 | Train Loss: 106.88127\n",
      "Epoch 289 | Batch 0 | Train Loss: 106.83791\n",
      "Epoch 290 | Batch 0 | Train Loss: 105.9232\n",
      "Epoch 291 | Batch 0 | Train Loss: 104.86831\n",
      "Epoch 292 | Batch 0 | Train Loss: 105.506615\n",
      "Epoch 293 | Batch 0 | Train Loss: 105.065125\n",
      "Epoch 294 | Batch 0 | Train Loss: 104.322266\n",
      "Epoch 295 | Batch 0 | Train Loss: 101.63715\n",
      "Epoch 296 | Batch 0 | Train Loss: 103.844925\n",
      "Epoch 297 | Batch 0 | Train Loss: 102.31453\n",
      "Epoch 298 | Batch 0 | Train Loss: 101.47813\n",
      "Epoch 299 | Batch 0 | Train Loss: 100.025536\n"
     ]
    }
   ],
   "source": [
    "RANDOM_SEED = 42\n",
    "tf.set_random_seed(RANDOM_SEED)\n",
    "\n",
    "tf.reset_default_graph()\n",
    "\n",
    "learning_rate = 0.01\n",
    "epoch = 300\n",
    "interval = 100\n",
    "batch_size = 600\n",
    "n_batches = train_X.shape[0]//batch_size\n",
    "\n",
    "# Layer's sizes\n",
    "x_size = train_X.shape[1]   # Number of input nodes\n",
    "h_size = 98                 # Number of hidden nodes\n",
    "h_size2 = 49                # Number of hidden nodes\n",
    "y_size = train_y.shape[1]   # Number of outcomes\n",
    "\n",
    "# Symbols\n",
    "X = tf.placeholder(tf.float32, shape=[None, x_size], name='X')\n",
    "y = tf.placeholder(tf.float32, shape=[None, y_size], name='y')\n",
    "keep_prob = tf.placeholder(tf.float32)\n",
    "\n",
    "# Weight initializations\n",
    "w1 = tf.Variable(tf.random_normal(shape=(x_size, h_size)))\n",
    "b1 = tf.Variable(tf.random_normal(shape=[h_size]))\n",
    "w2 = tf.Variable(tf.random_normal(shape=(h_size, h_size2)))\n",
    "b2 = tf.Variable(tf.random_normal(shape=[h_size2]))\n",
    "w3 = tf.Variable(tf.random_normal(shape=(h_size2, y_size)))\n",
    "b3 = tf.Variable(tf.random_normal(shape=[y_size]))\n",
    "\n",
    "# Operations\n",
    "hidden_output = tf.nn.sigmoid(tf.add(tf.matmul(X, w1), b1))\n",
    "dropout = tf.nn.dropout(hidden_output, keep_prob)\n",
    "hidden_output2 = tf.nn.sigmoid(tf.add(tf.matmul(dropout, w2), b2))\n",
    "dropout2 = tf.nn.dropout(hidden_output2, keep_prob)\n",
    "final_output = tf.nn.softmax(tf.add(tf.matmul(dropout2, w3), b3), name='final_output')\n",
    "\n",
    "# Cost Function\n",
    "loss = tf.reduce_mean(-tf.reduce_sum(y * tf.log(final_output), axis=0))\n",
    "\n",
    "# Optimizer\n",
    "optimizer = tf.train.AdamOptimizer().minimize(loss)\n",
    "\n",
    "# Add ops to save and restore all the variables.\n",
    "saver = tf.train.Saver()\n",
    "\n",
    "# Run SGD\n",
    "sess = tf.Session()\n",
    "init = tf.global_variables_initializer()\n",
    "sess.run(init)\n",
    "\n",
    "# Training\n",
    "print('Training the model...')\n",
    "losses = {'train':[], 'validation':[]}\n",
    "\n",
    "for e in range(epoch):\n",
    "    idxs = np.random.permutation(train_X.shape[0]) #shuffled ordering\n",
    "    random_X = train_X[idxs]\n",
    "    random_y = train_y[idxs]\n",
    "    for i in range(n_batches):\n",
    "        batch_X = random_X[i * batch_size:(i+1) * batch_size]\n",
    "        batch_y = random_y[i * batch_size:(i+1) * batch_size]\n",
    "        sess.run(optimizer,feed_dict = {X: batch_X, y:batch_y, keep_prob:0.8})\n",
    "        \n",
    "        if i % interval == 0:\n",
    "            train_loss = sess.run(loss, feed_dict={X: train_X, y: train_y, keep_prob:1})\n",
    "            print('Epoch', e, '|',\n",
    "                  'Batch', i, '|',\n",
    "                  'Train Loss:', train_loss)\n",
    "            losses['train'].append(train_loss)"
   ]
  },
  {
   "cell_type": "code",
   "execution_count": 44,
   "metadata": {
    "collapsed": false
   },
   "outputs": [
    {
     "data": {
      "image/png": "[encoded data removed]",
      "text/plain": [
       "<matplotlib.figure.Figure at 0x7f52ec105208>"
      ]
     },
     "metadata": {
      "image/png": {
       "height": 250,
       "width": 389
      }
     },
     "output_type": "display_data"
    }
   ],
   "source": [
    "plt.plot(losses['train'], label='Training loss')\n",
    "plt.legend()\n",
    "_ = plt.ylim()"
   ]
  },
  {
   "cell_type": "code",
   "execution_count": 45,
   "metadata": {
    "collapsed": false
   },
   "outputs": [
    {
     "name": "stdout",
     "output_type": "stream",
     "text": [
      "Accuracy: 0.972\n",
      "Confusion Matrix:\n",
      "[[ 972    0    0    1    0    1    3    1    1    1]\n",
      " [   0 1121    4    1    0    2    2    1    4    0]\n",
      " [   4    0 1008    4    2    0    4    6    4    0]\n",
      " [   0    0    8  982    0    8    0    7    4    1]\n",
      " [   1    1    7    0  950    0    6    2    2   13]\n",
      " [   3    0    1   11    1  859    5    1    5    6]\n",
      " [   7    1    2    1    5    6  933    0    3    0]\n",
      " [   2    5   12    4    3    0    0  996    1    5]\n",
      " [   8    0    6    7    4    4    4    5  933    3]\n",
      " [   3    5    0    6   15    5    1    7    1  966]]\n"
     ]
    }
   ],
   "source": [
    "success = 0\n",
    "results = {'actual':[], 'predicted':[]}\n",
    "for i in range(len(test_X)):\n",
    "    predicted = sess.run(final_output, feed_dict={X: [test_X[i]], keep_prob:1})\n",
    "    results['actual'].append(np.argmax(test_y[i]))\n",
    "    results['predicted'].append(np.argmax(predicted))\n",
    "    if np.argmax(test_y[i]) == np.argmax(predicted):\n",
    "        success += 1\n",
    "    #print('Actual:', test_y[i], 'Predicted:', np.rint(predicted))\n",
    "\n",
    "print('Accuracy:', success/len(test_X))\n",
    "\n",
    "print('Confusion Matrix:')\n",
    "print(confusion_matrix(results['actual'], results['predicted']))\n",
    "    "
   ]
  },
  {
   "cell_type": "markdown",
   "metadata": {},
   "source": [
    "### Definição de Topologia da Rede\n",
    "Mostre as três arquiteturas que serão utilizadas para resolver o problema. As arquiteturas devem ser simples de forma a retornar bons resultados com a menor quantidade necessária de neurônios e camadas. As três arquiteturas devem variar apenas quanto ao número de neurônios e camadas (incluindo regularização). Baseado nisso, explique:\n",
    "\n",
    "- Quantos neurônios serão utilizados em cada camada?\n",
    "<br><font color=red>98 e 49</font>\n",
    "- Quantas camadas serão utilizadas?\n",
    "<br><font color=red>2</font>\n",
    "- É necessário utilizar regularização? Se sim explique a técnica que foi utilizada e o impacto nos resultados\n",
    "<br><font color=red>Só usamos Dropout para minimizar possível overfitting</font>\n",
    "- Qual função de ativação será utilizada? Escolha duas funções de ativação e explique os resultados obtidos\n",
    "<br><font color=red>Por se tratar de um problema de multi-classiificação, optamos por Softmax.</font>"
   ]
  },
  {
   "cell_type": "markdown",
   "metadata": {},
   "source": [
    "### Definir otimizador, função custo e modo do treinamento\n",
    "Uma Rede Neural é um problema de otimização, sabendo disso, explique:\n",
    "<br>\n",
    "- Qual otimizador será utilizado? Escolha dois otimizadores, explique a diferença entre eles justificando a escolha e comente os resultados obtidos.\n",
    "<br><font color=red>O otimizador Adam, como tem momento e tamanho de passo efetivo, conseguiu convergir bem mais rápido que o gradiente descendente, por isso foi esoclhido.</font>\n",
    "- Será necessário utilizar uma função custo? Explique o que é uma função custo e qual será utilizada justificando a escolha.\n",
    "<br><font color=red>Claro. Afinal o otimizador precisa otimizar alguma coisa. A função utlizada foi a cross entropy loss.</font>\n",
    "- Qual modo de treinamento foi utilizado? Justifique sua resposta\n",
    "<br><font color=red>Mini-batch. Possui ótimo tradeoff entre treinamento rápido e capacidade de evitar mínimos locais pela sua estocasticidade.</font>\n",
    "- Quantas épocas serão necessárias? Caso os métodos por batch ou mini-batch sejam escolhidos, indique também o tamanho</font>\n",
    "<br><font color=red>Quanto maior o batch mais épocas são necessárias.</font>"
   ]
  },
  {
   "cell_type": "code",
   "execution_count": null,
   "metadata": {
    "collapsed": true
   },
   "outputs": [],
   "source": []
  }
 ],
 "metadata": {
  "kernelspec": {
   "display_name": "Python 3",
   "language": "python",
   "name": "python3"
  },
  "language_info": {
   "codemirror_mode": {
    "name": "ipython",
    "version": 3
   },
   "file_extension": ".py",
   "mimetype": "text/x-python",
   "name": "python",
   "nbconvert_exporter": "python",
   "pygments_lexer": "ipython3",
   "version": "3.5.4"
  }
 },
 "nbformat": 4,
 "nbformat_minor": 2
}
