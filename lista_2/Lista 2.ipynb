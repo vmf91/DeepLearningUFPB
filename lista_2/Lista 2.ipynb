{
 "cells": [
  {
   "cell_type": "markdown",
   "metadata": {},
   "source": [
    "# Lista 2\n"
   ]
  },
  {
   "cell_type": "markdown",
   "metadata": {},
   "source": [
    "Preparando conjunto de treino e test:"
   ]
  },
  {
   "cell_type": "code",
   "execution_count": 1,
   "metadata": {
    "collapsed": true
   },
   "outputs": [],
   "source": [
    "%matplotlib inline\n",
    "%config InlineBackend.figure_format = 'retina'\n",
    "\n",
    "import pandas as pd\n",
    "from pandas.api.types import CategoricalDtype\n",
    "import numpy as np\n",
    "import tensorflow as tf\n",
    "import matplotlib.pyplot as plt\n",
    "from sklearn.utils import shuffle\n",
    "from sklearn.metrics import confusion_matrix"
   ]
  },
  {
   "cell_type": "code",
   "execution_count": 2,
   "metadata": {
    "collapsed": true
   },
   "outputs": [],
   "source": [
    "fields = ['Survived', 'Pclass', 'Sex', 'Age', 'SibSp', 'Parch', 'Embarked']"
   ]
  },
  {
   "cell_type": "code",
   "execution_count": 3,
   "metadata": {
    "collapsed": true
   },
   "outputs": [],
   "source": [
    "def processDataset(df):    \n",
    "    \n",
    "    # Insere os valores faltando em Age\n",
    "    mean_age = df['Age'].mean()\n",
    "    std_age = df['Age'].std() # desvio padrão\n",
    "    min_value = mean_age - std_age\n",
    "    max_value = mean_age + std_age\n",
    "\n",
    "    size = df['Age'].isnull().sum()\n",
    "\n",
    "    df.loc[df['Age'].isnull(), 'Age'] = np.random.randint(min_value, max_value, size=size)\n",
    "\n",
    "    df['Age'] = df['Age'].astype(int)   \n",
    "    \n",
    "    # Normaliza a idade\n",
    "    df['Age'] = (df['Age'] - mean_age) / std_age       \n",
    "    \n",
    "    # Insere os valores faltando em Embarked\n",
    "    embarked_values = ['C', 'Q', 'S']\n",
    "    size = df['Embarked'].isnull().sum()\n",
    "    random_values = [embarked_values[i] for i in np.random.randint(0, 3, size=size)]\n",
    "    df.loc[df['Embarked'].isnull(), 'Embarked'] = random_values\n",
    "    \n",
    "    df['Embarked'] = df['Embarked'].map({'C': 0, 'Q': 1, 'S': 2})\n",
    "    \n",
    "    #df['Sex'] = df['Sex'].map({'male': 0, 'famale': 1})\n",
    "    new_sex = []\n",
    "    for index, row in df.iterrows():\n",
    "        if row['Sex'] == 'male':\n",
    "            new_sex.append(0)\n",
    "        else:\n",
    "            new_sex.append(1)\n",
    "\n",
    "    df['Sex'] = new_sex\n",
    "    \n",
    "    # Faz o one hot encode em Sex, Embaked, SibSp e Parch, Pclass\n",
    "    # o  parâmetro'categories' garante que mesmo que o dado esteja faltando será considerado\n",
    "    sex = df['Sex'].astype(CategoricalDtype(categories=[0, 1]))\n",
    "    embarked = df['Embarked'].astype(CategoricalDtype(categories=[0, 1, 2]))\n",
    "    parch = df['Parch'].astype(CategoricalDtype(categories=[0, 1, 2, 3, 4, 5, 6, 7, 8, 9]))\n",
    "    sibsp = df['SibSp'].astype(CategoricalDtype(categories=[0, 1, 2, 3, 4, 5, 6, 7, 8]))\n",
    "    pclass = df['Pclass'].astype(CategoricalDtype(categories=[1, 2, 3]))\n",
    "    \n",
    "    res = pd.concat([df,pd.get_dummies(sex, prefix='Sex')], axis=1)\n",
    "    res = pd.concat([res,pd.get_dummies(parch, prefix='Parch')], axis=1)\n",
    "    #res = pd.concat([res,pd.get_dummies(sibsp, prefix='SibSp')], axis=1)\n",
    "    res = pd.concat([res,pd.get_dummies(embarked, prefix='Embarked')], axis=1)\n",
    "    res = pd.concat([res,pd.get_dummies(pclass, prefix='Pclass')], axis=1)\n",
    "    \n",
    "    return res\n",
    "\n",
    "def clearColumns(df, cols):\n",
    "    df.drop(cols, inplace=True, axis='columns')\n",
    "    return df\n",
    "\n",
    "def addSurvivedCol(df_test, df_full):\n",
    "    survived = []\n",
    "    \n",
    "    names = df_test['Name']\n",
    "    \n",
    "    for name in names:\n",
    "        line = df_full.loc[df_full['Name'] == name]\n",
    "        survived.append(line['Survived'])\n",
    "    \n",
    "    df_test['Survived'] = survived\n",
    "    \n",
    "    return df_test\n",
    "\n",
    "def correlation(df, fields, objective):\n",
    "    correlation_list = {}\n",
    "    for col in fields:\n",
    "        correl = np.corrcoef(df[col], df[objective])\n",
    "        correlation_list[col] = correl[0][1]\n",
    "\n",
    "    correlation_list = sorted(correlation_list.items(), key=lambda x:x[1], reverse=True)\n",
    "    for i in range(len(correlation_list)):\n",
    "        print(str(correlation_list[i][0]) + ': ' + str(correlation_list[i][1]))\n",
    "\n",
    "def one_hot_encode(x):\n",
    "    one_hot = np.zeros([len(x), 2])\n",
    "    for i in enumerate(x):\n",
    "        one_hot[(i[0], i[1])] = 1\n",
    "    return one_hot"
   ]
  },
  {
   "cell_type": "code",
   "execution_count": 4,
   "metadata": {
    "collapsed": false
   },
   "outputs": [
    {
     "data": {
      "image/png": "[encoded data removed]",
      "text/plain": [
       "<matplotlib.figure.Figure at 0x7f865bb5cac8>"
      ]
     },
     "metadata": {
      "image/png": {
       "height": 254,
       "width": 348
      }
     },
     "output_type": "display_data"
    },
    {
     "data": {
      "text/html": [
       "<div>\n",
       "<style scoped>\n",
       "    .dataframe tbody tr th:only-of-type {\n",
       "        vertical-align: middle;\n",
       "    }\n",
       "\n",
       "    .dataframe tbody tr th {\n",
       "        vertical-align: top;\n",
       "    }\n",
       "\n",
       "    .dataframe thead th {\n",
       "        text-align: right;\n",
       "    }\n",
       "</style>\n",
       "<table border=\"1\" class=\"dataframe\">\n",
       "  <thead>\n",
       "    <tr style=\"text-align: right;\">\n",
       "      <th></th>\n",
       "      <th>Pclass</th>\n",
       "      <th>Survived</th>\n",
       "      <th>Sex</th>\n",
       "      <th>Age</th>\n",
       "      <th>SibSp</th>\n",
       "      <th>Parch</th>\n",
       "      <th>Embarked</th>\n",
       "      <th>Sex_0</th>\n",
       "      <th>Sex_1</th>\n",
       "      <th>Parch_0</th>\n",
       "      <th>...</th>\n",
       "      <th>Parch_6</th>\n",
       "      <th>Parch_7</th>\n",
       "      <th>Parch_8</th>\n",
       "      <th>Parch_9</th>\n",
       "      <th>Embarked_0</th>\n",
       "      <th>Embarked_1</th>\n",
       "      <th>Embarked_2</th>\n",
       "      <th>Pclass_1</th>\n",
       "      <th>Pclass_2</th>\n",
       "      <th>Pclass_3</th>\n",
       "    </tr>\n",
       "  </thead>\n",
       "  <tbody>\n",
       "    <tr>\n",
       "      <th>0</th>\n",
       "      <td>1</td>\n",
       "      <td>1</td>\n",
       "      <td>1</td>\n",
       "      <td>-0.061133</td>\n",
       "      <td>0</td>\n",
       "      <td>0</td>\n",
       "      <td>2</td>\n",
       "      <td>0</td>\n",
       "      <td>1</td>\n",
       "      <td>1</td>\n",
       "      <td>...</td>\n",
       "      <td>0</td>\n",
       "      <td>0</td>\n",
       "      <td>0</td>\n",
       "      <td>0</td>\n",
       "      <td>0</td>\n",
       "      <td>0</td>\n",
       "      <td>1</td>\n",
       "      <td>1</td>\n",
       "      <td>0</td>\n",
       "      <td>0</td>\n",
       "    </tr>\n",
       "  </tbody>\n",
       "</table>\n",
       "<p>1 rows × 25 columns</p>\n",
       "</div>"
      ],
      "text/plain": [
       "   Pclass  Survived  Sex       Age  SibSp  Parch  Embarked  Sex_0  Sex_1  \\\n",
       "0       1         1    1 -0.061133      0      0         2      0      1   \n",
       "\n",
       "   Parch_0    ...     Parch_6  Parch_7  Parch_8  Parch_9  Embarked_0  \\\n",
       "0        1    ...           0        0        0        0           0   \n",
       "\n",
       "   Embarked_1  Embarked_2  Pclass_1  Pclass_2  Pclass_3  \n",
       "0           0           1         1         0         0  \n",
       "\n",
       "[1 rows x 25 columns]"
      ]
     },
     "execution_count": 4,
     "metadata": {},
     "output_type": "execute_result"
    }
   ],
   "source": [
    "df_full = pd.read_csv('titanic.csv', usecols=fields)\n",
    "correlations = df_full.corr()\n",
    "\n",
    "# plot correlação\n",
    "fig = plt.figure()\n",
    "ax = fig.add_subplot(111)\n",
    "cax = ax.matshow(correlations, vmin=-1, vmax=1)\n",
    "fig.colorbar(cax)\n",
    "ticks = np.arange(0,5,1)\n",
    "ax.set_xticks(ticks)\n",
    "ax.set_yticks(ticks)\n",
    "ax.set_xticklabels(fields)\n",
    "ax.set_yticklabels(fields)\n",
    "plt.show()\n",
    "\n",
    "df_full = processDataset(df_full)\n",
    "df_full.head(1)"
   ]
  },
  {
   "cell_type": "code",
   "execution_count": 5,
   "metadata": {
    "collapsed": false,
    "scrolled": true
   },
   "outputs": [
    {
     "name": "stdout",
     "output_type": "stream",
     "text": [
      "Survived: 1.0\n",
      "Sex: 0.5286930913889885\n",
      "Parch: 0.08265957038609868\n",
      "SibSp: -0.02782511923058212\n",
      "Age: -0.03563724686763845\n",
      "Embarked: -0.1753131114395408\n",
      "Pclass: -0.3124693626496761\n"
     ]
    }
   ],
   "source": [
    "correlation(df_full, fields, 'Survived')"
   ]
  },
  {
   "cell_type": "code",
   "execution_count": 6,
   "metadata": {
    "collapsed": false
   },
   "outputs": [
    {
     "data": {
      "text/html": [
       "<div>\n",
       "<style scoped>\n",
       "    .dataframe tbody tr th:only-of-type {\n",
       "        vertical-align: middle;\n",
       "    }\n",
       "\n",
       "    .dataframe tbody tr th {\n",
       "        vertical-align: top;\n",
       "    }\n",
       "\n",
       "    .dataframe thead th {\n",
       "        text-align: right;\n",
       "    }\n",
       "</style>\n",
       "<table border=\"1\" class=\"dataframe\">\n",
       "  <thead>\n",
       "    <tr style=\"text-align: right;\">\n",
       "      <th></th>\n",
       "      <th>Survived</th>\n",
       "      <th>Age</th>\n",
       "      <th>Sex_0</th>\n",
       "      <th>Sex_1</th>\n",
       "      <th>Parch_0</th>\n",
       "      <th>Parch_1</th>\n",
       "      <th>Parch_2</th>\n",
       "      <th>Parch_3</th>\n",
       "      <th>Parch_4</th>\n",
       "      <th>Parch_5</th>\n",
       "      <th>Parch_6</th>\n",
       "      <th>Parch_7</th>\n",
       "      <th>Parch_8</th>\n",
       "      <th>Parch_9</th>\n",
       "      <th>Embarked_0</th>\n",
       "      <th>Embarked_1</th>\n",
       "      <th>Embarked_2</th>\n",
       "      <th>Pclass_1</th>\n",
       "      <th>Pclass_2</th>\n",
       "      <th>Pclass_3</th>\n",
       "    </tr>\n",
       "  </thead>\n",
       "  <tbody>\n",
       "    <tr>\n",
       "      <th>0</th>\n",
       "      <td>1</td>\n",
       "      <td>-0.061133</td>\n",
       "      <td>0</td>\n",
       "      <td>1</td>\n",
       "      <td>1</td>\n",
       "      <td>0</td>\n",
       "      <td>0</td>\n",
       "      <td>0</td>\n",
       "      <td>0</td>\n",
       "      <td>0</td>\n",
       "      <td>0</td>\n",
       "      <td>0</td>\n",
       "      <td>0</td>\n",
       "      <td>0</td>\n",
       "      <td>0</td>\n",
       "      <td>0</td>\n",
       "      <td>1</td>\n",
       "      <td>1</td>\n",
       "      <td>0</td>\n",
       "      <td>0</td>\n",
       "    </tr>\n",
       "  </tbody>\n",
       "</table>\n",
       "</div>"
      ],
      "text/plain": [
       "   Survived       Age  Sex_0  Sex_1  Parch_0  Parch_1  Parch_2  Parch_3  \\\n",
       "0         1 -0.061133      0      1        1        0        0        0   \n",
       "\n",
       "   Parch_4  Parch_5  Parch_6  Parch_7  Parch_8  Parch_9  Embarked_0  \\\n",
       "0        0        0        0        0        0        0           0   \n",
       "\n",
       "   Embarked_1  Embarked_2  Pclass_1  Pclass_2  Pclass_3  \n",
       "0           0           1         1         0         0  "
      ]
     },
     "execution_count": 6,
     "metadata": {},
     "output_type": "execute_result"
    }
   ],
   "source": [
    "df_full = clearColumns(df_full, ['Sex', 'Embarked', 'Pclass', 'Parch', 'SibSp'])\n",
    "df_full.head(1)"
   ]
  },
  {
   "cell_type": "code",
   "execution_count": 7,
   "metadata": {
    "collapsed": true
   },
   "outputs": [],
   "source": [
    "# Separa os dados\n",
    "data_X = df_full.drop(['Survived'], inplace=False, axis='columns').values.tolist()\n",
    "data_y = df_full['Survived'].values.tolist()\n",
    "\n",
    "data_X, data_y = shuffle(data_X, data_y, random_state=0)\n",
    "data_X = np.array(data_X)\n",
    "data_y = np.array(data_y)\n",
    "data_y = np.reshape(data_y, (len(data_y), 1))\n",
    "\n",
    "train_size = 800\n",
    "val_size = 200\n",
    "\n",
    "train_X, val_X = data_X[:train_size], data_X[train_size:]\n",
    "train_y, val_y = data_y[:train_size], data_y[train_size:]\n",
    "\n",
    "val_X, test_X = val_X[:val_size], val_X[val_size:]\n",
    "val_y, test_y = val_y[:val_size], val_y[val_size:]"
   ]
  },
  {
   "cell_type": "markdown",
   "metadata": {
    "collapsed": true
   },
   "source": [
    "### Rede Neural"
   ]
  },
  {
   "cell_type": "code",
   "execution_count": 8,
   "metadata": {
    "collapsed": false,
    "scrolled": false
   },
   "outputs": [
    {
     "name": "stdout",
     "output_type": "stream",
     "text": [
      "Training the model...\n",
      "Epoch 0 | Batch 0 | Train Loss: 0.82236147 | Validation Loss: 0.8749964\n",
      "Epoch 1 | Batch 0 | Train Loss: 0.7281142 | Validation Loss: 0.7763933\n",
      "Epoch 2 | Batch 0 | Train Loss: 0.65583616 | Validation Loss: 0.69644713\n",
      "Epoch 3 | Batch 0 | Train Loss: 0.610635 | Validation Loss: 0.6483835\n",
      "Epoch 4 | Batch 0 | Train Loss: 0.57184184 | Validation Loss: 0.6047391\n",
      "Epoch 5 | Batch 0 | Train Loss: 0.5444349 | Validation Loss: 0.57346463\n",
      "Epoch 6 | Batch 0 | Train Loss: 0.5223282 | Validation Loss: 0.5491761\n",
      "Epoch 7 | Batch 0 | Train Loss: 0.5067392 | Validation Loss: 0.5326483\n",
      "Epoch 8 | Batch 0 | Train Loss: 0.49545032 | Validation Loss: 0.5211594\n",
      "Epoch 9 | Batch 0 | Train Loss: 0.48452055 | Validation Loss: 0.50974816\n",
      "Epoch 10 | Batch 0 | Train Loss: 0.4777434 | Validation Loss: 0.5038618\n",
      "Epoch 11 | Batch 0 | Train Loss: 0.47320136 | Validation Loss: 0.4999781\n",
      "Epoch 12 | Batch 0 | Train Loss: 0.4683283 | Validation Loss: 0.4959794\n",
      "Epoch 13 | Batch 0 | Train Loss: 0.46459606 | Validation Loss: 0.49453664\n",
      "Epoch 14 | Batch 0 | Train Loss: 0.46342045 | Validation Loss: 0.49345258\n",
      "Epoch 15 | Batch 0 | Train Loss: 0.46092767 | Validation Loss: 0.49247986\n",
      "Epoch 16 | Batch 0 | Train Loss: 0.45820633 | Validation Loss: 0.49167943\n",
      "Epoch 17 | Batch 0 | Train Loss: 0.456827 | Validation Loss: 0.49186042\n",
      "Epoch 18 | Batch 0 | Train Loss: 0.4557359 | Validation Loss: 0.49235952\n",
      "Epoch 19 | Batch 0 | Train Loss: 0.45485023 | Validation Loss: 0.49311793\n",
      "Epoch 20 | Batch 0 | Train Loss: 0.4541659 | Validation Loss: 0.4933795\n",
      "Epoch 21 | Batch 0 | Train Loss: 0.4532753 | Validation Loss: 0.4931044\n",
      "Epoch 22 | Batch 0 | Train Loss: 0.45161447 | Validation Loss: 0.49392486\n",
      "Epoch 23 | Batch 0 | Train Loss: 0.45054376 | Validation Loss: 0.49416935\n",
      "Epoch 24 | Batch 0 | Train Loss: 0.44951135 | Validation Loss: 0.49434516\n",
      "Epoch 25 | Batch 0 | Train Loss: 0.44851875 | Validation Loss: 0.4941703\n",
      "Epoch 26 | Batch 0 | Train Loss: 0.44760573 | Validation Loss: 0.49311966\n",
      "Epoch 27 | Batch 0 | Train Loss: 0.4464679 | Validation Loss: 0.4934102\n",
      "Epoch 28 | Batch 0 | Train Loss: 0.44675437 | Validation Loss: 0.49323952\n",
      "Epoch 29 | Batch 0 | Train Loss: 0.4448722 | Validation Loss: 0.4942053\n",
      "Epoch 30 | Batch 0 | Train Loss: 0.4439669 | Validation Loss: 0.49456415\n",
      "Epoch 31 | Batch 0 | Train Loss: 0.4433775 | Validation Loss: 0.49372452\n",
      "Epoch 32 | Batch 0 | Train Loss: 0.44349086 | Validation Loss: 0.49342597\n",
      "Epoch 33 | Batch 0 | Train Loss: 0.44197327 | Validation Loss: 0.49336553\n",
      "Epoch 34 | Batch 0 | Train Loss: 0.44086388 | Validation Loss: 0.49464226\n",
      "Epoch 35 | Batch 0 | Train Loss: 0.43992287 | Validation Loss: 0.49448022\n",
      "Epoch 36 | Batch 0 | Train Loss: 0.43950096 | Validation Loss: 0.49452004\n",
      "Epoch 37 | Batch 0 | Train Loss: 0.4388723 | Validation Loss: 0.49479118\n",
      "Epoch 38 | Batch 0 | Train Loss: 0.43785942 | Validation Loss: 0.49546394\n",
      "Epoch 39 | Batch 0 | Train Loss: 0.4379184 | Validation Loss: 0.49466723\n",
      "Epoch 40 | Batch 0 | Train Loss: 0.43726298 | Validation Loss: 0.49490204\n",
      "Epoch 41 | Batch 0 | Train Loss: 0.43595353 | Validation Loss: 0.49583024\n",
      "Epoch 42 | Batch 0 | Train Loss: 0.43531445 | Validation Loss: 0.49541906\n",
      "Epoch 43 | Batch 0 | Train Loss: 0.43469322 | Validation Loss: 0.49588603\n",
      "Epoch 44 | Batch 0 | Train Loss: 0.43402708 | Validation Loss: 0.4958294\n",
      "Epoch 45 | Batch 0 | Train Loss: 0.43332663 | Validation Loss: 0.4959625\n",
      "Epoch 46 | Batch 0 | Train Loss: 0.43270263 | Validation Loss: 0.49504483\n",
      "Epoch 47 | Batch 0 | Train Loss: 0.43219063 | Validation Loss: 0.4961102\n",
      "Epoch 48 | Batch 0 | Train Loss: 0.43139756 | Validation Loss: 0.495326\n",
      "Epoch 49 | Batch 0 | Train Loss: 0.43082765 | Validation Loss: 0.49535415\n"
     ]
    }
   ],
   "source": [
    "RANDOM_SEED = 42\n",
    "tf.set_random_seed(RANDOM_SEED)\n",
    "\n",
    "tf.reset_default_graph()\n",
    "\n",
    "learning_rate = 0.01\n",
    "epoch = 50\n",
    "interval = 100\n",
    "batch_size = 10\n",
    "n_batches = train_X.shape[0]//batch_size\n",
    "\n",
    "# Layer's sizes\n",
    "x_size = train_X.shape[1]   # Number of input nodes: 3 features and 1 bias\n",
    "h_size = 30                 # Number of hidden nodes\n",
    "y_size = train_y.shape[1]   # Number of outcomes (8 classes)\n",
    "\n",
    "# Symbols\n",
    "X = tf.placeholder(tf.float32, shape=[None, x_size])\n",
    "y = tf.placeholder(tf.float32, shape=[None, y_size])\n",
    "keep_prob = tf.placeholder(tf.float32)\n",
    "\n",
    "# Weight initializations\n",
    "w1 = tf.Variable(tf.random_normal(shape=(x_size, h_size)))\n",
    "b1 = tf.Variable(tf.random_normal(shape=[h_size]))\n",
    "w2 = tf.Variable(tf.random_normal(shape=(h_size, y_size)))\n",
    "b2 = tf.Variable(tf.random_normal(shape=[y_size]))\n",
    "\n",
    "# Operations\n",
    "hidden_output = tf.nn.sigmoid(tf.add(tf.matmul(X, w1), b1))\n",
    "dropout = tf.nn.dropout(hidden_output, keep_prob)\n",
    "#final_output = tf.nn.softmax(tf.add(tf.matmul(dropout, w2), b2), name='final_output')\n",
    "final_output = tf.nn.sigmoid(tf.add(tf.matmul(dropout, w2), b2), name='final_output')\n",
    "\n",
    "# Cost Function\n",
    "#loss = tf.reduce_mean(-tf.reduce_sum(y * tf.log(final_output), axis=0))\n",
    "loss = tf.losses.log_loss(y,final_output)\n",
    "\n",
    "# Optimizer\n",
    "optimizer = tf.train.AdamOptimizer().minimize(loss)\n",
    "\n",
    "# Add ops to save and restore all the variables.\n",
    "saver = tf.train.Saver()\n",
    "\n",
    "# Run SGD\n",
    "sess = tf.Session()\n",
    "init = tf.global_variables_initializer()\n",
    "sess.run(init)\n",
    "\n",
    "# Training\n",
    "print('Training the model...')\n",
    "losses = {'train':[], 'validation':[]}\n",
    "\n",
    "for e in range(epoch):\n",
    "    idxs = np.random.permutation(train_X.shape[0]) #shuffled ordering\n",
    "    random_X = train_X[idxs]\n",
    "    random_y = train_y[idxs]\n",
    "    for i in range(n_batches):\n",
    "        batch_X = random_X[i * batch_size:(i+1) * batch_size]\n",
    "        batch_y = random_y[i * batch_size:(i+1) * batch_size]\n",
    "        sess.run(optimizer,feed_dict = {X: batch_X, y:batch_y, keep_prob:0.8})\n",
    "        \n",
    "        if i % interval == 0:\n",
    "            train_loss = sess.run(loss, feed_dict={X: train_X, y: train_y, keep_prob:1})\n",
    "            val_loss   = sess.run(loss, feed_dict={X: val_X, y: val_y, keep_prob:1})\n",
    "            print('Epoch', e, '|',\n",
    "                  'Batch', i, '|',\n",
    "                  'Train Loss:', train_loss , '|',\n",
    "                  'Validation Loss:', val_loss)\n",
    "            losses['train'].append(train_loss)\n",
    "            losses['validation'].append(val_loss)\n",
    "\n",
    "#save_path = saver.save(sess, './model/my_test_model',global_step=1000)\n",
    "#print(\"Model saved in path: %s\" % save_path)\n",
    "#sess.close()"
   ]
  },
  {
   "cell_type": "code",
   "execution_count": 9,
   "metadata": {
    "collapsed": false,
    "scrolled": true
   },
   "outputs": [
    {
     "data": {
      "image/png": "[encoded data removed]",
      "text/plain": [
       "<matplotlib.figure.Figure at 0x7f8641b3fe80>"
      ]
     },
     "metadata": {
      "image/png": {
       "height": 250,
       "width": 373
      }
     },
     "output_type": "display_data"
    }
   ],
   "source": [
    "plt.plot(losses['train'], label='Training loss')\n",
    "plt.plot(losses['validation'], label='Validation loss')\n",
    "plt.legend()\n",
    "_ = plt.ylim()"
   ]
  },
  {
   "cell_type": "code",
   "execution_count": 10,
   "metadata": {
    "collapsed": false,
    "scrolled": true
   },
   "outputs": [
    {
     "name": "stdout",
     "output_type": "stream",
     "text": [
      "Accuracy: 0.8187702265372169\n",
      "Confusion Matrix:\n",
      "[[164  18]\n",
      " [ 38  89]]\n"
     ]
    }
   ],
   "source": [
    "threshold = 0.5\n",
    "success = 0\n",
    "results = {'actual':[], 'predicted':[]}\n",
    "for i in range(len(test_X)):\n",
    "    predicted = sess.run(final_output, feed_dict={X: [test_X[i]], keep_prob:1})\n",
    "    results['actual'].append(test_y[i])\n",
    "    if (test_y[i][0] > threshold and predicted[0][0] > threshold) or (test_y[i][0] < threshold and predicted[0][0] < threshold):\n",
    "        success += 1\n",
    "        results['predicted'].append(test_y[i][0])\n",
    "    else:\n",
    "        results['predicted'].append(not test_y[i][0])\n",
    "    #print('Actual:', test_y[i][0], 'Predicted:', predicted[0][0])\n",
    "    #print('actual:',test_y[i],' | predicted:', predicted)\n",
    "    #print(predicted[0][0])\n",
    "\n",
    "print('Accuracy:', success/len(test_X))\n",
    "print('Confusion Matrix:')\n",
    "print(confusion_matrix(results['actual'], results['predicted']))\n",
    "    "
   ]
  }
 ],
 "metadata": {
  "kernelspec": {
   "display_name": "Python 3",
   "language": "python",
   "name": "python3"
  },
  "language_info": {
   "codemirror_mode": {
    "name": "ipython",
    "version": 3
   },
   "file_extension": ".py",
   "mimetype": "text/x-python",
   "name": "python",
   "nbconvert_exporter": "python",
   "pygments_lexer": "ipython3",
   "version": "3.5.4"
  }
 },
 "nbformat": 4,
 "nbformat_minor": 2
}
